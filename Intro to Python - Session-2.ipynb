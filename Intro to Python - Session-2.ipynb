{
 "cells": [
  {
   "cell_type": "markdown",
   "metadata": {},
   "source": [
    "# Intro to Python - Session 2 "
   ]
  },
  {
   "cell_type": "markdown",
   "metadata": {},
   "source": [
    " "
   ]
  },
  {
   "cell_type": "markdown",
   "metadata": {},
   "source": [
    "## Recap"
   ]
  },
  {
   "cell_type": "markdown",
   "metadata": {},
   "source": [
    "In last week's session we covered:\n",
    "\n",
    "### Statements\n"
   ]
  },
  {
   "cell_type": "markdown",
   "metadata": {},
   "source": [
    "#### - Print Statements "
   ]
  },
  {
   "cell_type": "markdown",
   "metadata": {},
   "source": [
    "E.g. "
   ]
  },
  {
   "cell_type": "code",
   "execution_count": 2,
   "metadata": {},
   "outputs": [
    {
     "name": "stdout",
     "output_type": "stream",
     "text": [
      "Hello World\n"
     ]
    }
   ],
   "source": [
    "print(\"Hello World!\")"
   ]
  },
  {
   "cell_type": "markdown",
   "metadata": {},
   "source": [
    " "
   ]
  },
  {
   "cell_type": "markdown",
   "metadata": {},
   "source": [
    "#### - Assignment Statements "
   ]
  },
  {
   "cell_type": "markdown",
   "metadata": {},
   "source": [
    "E.g. "
   ]
  },
  {
   "cell_type": "code",
   "execution_count": 5,
   "metadata": {},
   "outputs": [],
   "source": [
    "greeting = \"Hello World!\""
   ]
  },
  {
   "cell_type": "markdown",
   "metadata": {},
   "source": [
    "    And combining the two of these:"
   ]
  },
  {
   "cell_type": "code",
   "execution_count": 6,
   "metadata": {},
   "outputs": [
    {
     "name": "stdout",
     "output_type": "stream",
     "text": [
      "Hello World!\n"
     ]
    }
   ],
   "source": [
    "greeting = \"Hello World!\"\n",
    "print(greeting)"
   ]
  },
  {
   "cell_type": "markdown",
   "metadata": {},
   "source": [
    " "
   ]
  },
  {
   "cell_type": "markdown",
   "metadata": {},
   "source": [
    " "
   ]
  },
  {
   "cell_type": "markdown",
   "metadata": {},
   "source": [
    "### Variables"
   ]
  },
  {
   "cell_type": "markdown",
   "metadata": {},
   "source": [
    "These are simply containers of data/information.\n"
   ]
  },
  {
   "cell_type": "markdown",
   "metadata": {},
   "source": [
    "- Integers and Floats"
   ]
  },
  {
   "cell_type": "code",
   "execution_count": 7,
   "metadata": {},
   "outputs": [],
   "source": [
    "# Integer (whole numbers with no decimal places)\n",
    "\n",
    "a = 1 \n",
    "\n",
    "\n",
    "# Float (numbers which have a differnt decimal place)\n",
    "\n",
    "b = 1.1"
   ]
  },
  {
   "cell_type": "markdown",
   "metadata": {},
   "source": [
    "- Strings "
   ]
  },
  {
   "cell_type": "code",
   "execution_count": 8,
   "metadata": {},
   "outputs": [],
   "source": [
    "# Anything within quote marks is considered a string. \n",
    "# These are a 'string' or series of characters. \n",
    "\n",
    "x = 'Remember you can use one set of quote marks'\n",
    "y = \"Or you can use two - it doesn't matter! Just be consistent\"\n",
    "z = \"This also means you can include other 'quote marks' in the string.\""
   ]
  },
  {
   "cell_type": "markdown",
   "metadata": {},
   "source": [
    "- Boolean"
   ]
  },
  {
   "cell_type": "code",
   "execution_count": 9,
   "metadata": {},
   "outputs": [],
   "source": [
    "# These are variables that can only have two possible values which they store:\n",
    "\n",
    "a = True \n",
    "b = False "
   ]
  },
  {
   "cell_type": "markdown",
   "metadata": {},
   "source": [
    " "
   ]
  },
  {
   "cell_type": "markdown",
   "metadata": {},
   "source": [
    "We also looked at a number of rules which we must remember when writing our own code, to make sure that we avoid errors and follow best practice. "
   ]
  },
  {
   "cell_type": "markdown",
   "metadata": {},
   "source": [
    "This is just a very brief recap of what we have covered so, please see the following Jupyter notebooks (found on our private github repository,https://github.com/vemacademics/python-starter) for further detail:\n",
    "\n",
    "\n",
    "Intro to Python - Session 1 "
   ]
  },
  {
   "cell_type": "markdown",
   "metadata": {},
   "source": [
    " ----"
   ]
  },
  {
   "cell_type": "markdown",
   "metadata": {},
   "source": [
    " "
   ]
  },
  {
   "cell_type": "markdown",
   "metadata": {},
   "source": [
    "## This Week! "
   ]
  },
  {
   "cell_type": "markdown",
   "metadata": {},
   "source": [
    "What we're aiming to do with the notebook this week is to build on what we covered last week, developing some of the things we looked at by adding more code."
   ]
  },
  {
   "cell_type": "markdown",
   "metadata": {},
   "source": [
    " "
   ]
  },
  {
   "cell_type": "markdown",
   "metadata": {},
   "source": [
    "### More on Strings "
   ]
  },
  {
   "cell_type": "markdown",
   "metadata": {},
   "source": [
    "As we looked at last week, strings are useful for storing a series of characters/text in quote marks. "
   ]
  },
  {
   "cell_type": "code",
   "execution_count": null,
   "metadata": {},
   "outputs": [],
   "source": [
    "\"This is a string.\""
   ]
  },
  {
   "cell_type": "markdown",
   "metadata": {},
   "source": [
    "Whilst the strings we've looked at so far have been single strings, we're going to take a look at what happens when we want to combine them. "
   ]
  },
  {
   "cell_type": "markdown",
   "metadata": {},
   "source": [
    "#### String Concantenation "
   ]
  },
  {
   "cell_type": "markdown",
   "metadata": {},
   "source": [
    "String Concantenation describes when we combine two strings together using the + operator:"
   ]
  },
  {
   "cell_type": "code",
   "execution_count": 13,
   "metadata": {},
   "outputs": [
    {
     "data": {
      "text/plain": [
       "'HelloWorld!'"
      ]
     },
     "execution_count": 13,
     "metadata": {},
     "output_type": "execute_result"
    }
   ],
   "source": [
    "\"Hello\" + \"World!\""
   ]
  },
  {
   "cell_type": "markdown",
   "metadata": {},
   "source": [
    "Notice above that this leaves us with a single string value of \"HelloWorld!\". But this probably isn't that helpful as there isn't a space between the two words."
   ]
  },
  {
   "cell_type": "markdown",
   "metadata": {},
   "source": [
    "To ensure that the new string has a space between the two words, we must include a space as seen below:"
   ]
  },
  {
   "cell_type": "code",
   "execution_count": 14,
   "metadata": {},
   "outputs": [
    {
     "data": {
      "text/plain": [
       "'Hello World!'"
      ]
     },
     "execution_count": 14,
     "metadata": {},
     "output_type": "execute_result"
    }
   ],
   "source": [
    "\"Hello\" + \" World!\""
   ]
  },
  {
   "cell_type": "markdown",
   "metadata": {},
   "source": [
    "Notice how the space before World and after the quote marks means that our end result gives us a string with that space."
   ]
  },
  {
   "cell_type": "markdown",
   "metadata": {},
   "source": [
    "Using the + operator in this case, clearly works differently when compared with how it operates with integers/floats:"
   ]
  },
  {
   "cell_type": "code",
   "execution_count": 20,
   "metadata": {},
   "outputs": [
    {
     "name": "stdout",
     "output_type": "stream",
     "text": [
      "2\n",
      "2.3\n"
     ]
    }
   ],
   "source": [
    "a = 1 + 1\n",
    "b = 1.1 + 1.2\n",
    "\n",
    "print(a)\n",
    "print(b)"
   ]
  },
  {
   "cell_type": "markdown",
   "metadata": {},
   "source": [
    "This is because we have to remember that strings are a different data type to integers and floats. As we looked at in the last session, every value has a data type - these can vary though. It is these data types which Python recognises and allows it to determine what the operator should do. \n",
    "\n",
    "- With integers/floats, this is the recognition that they are two values which can be added together.\n",
    "- With strings, this is that they are two separate strings which need connecting. "
   ]
  },
  {
   "cell_type": "markdown",
   "metadata": {},
   "source": [
    " -----"
   ]
  },
  {
   "cell_type": "markdown",
   "metadata": {},
   "source": [
    "#### Methods"
   ]
  },
  {
   "cell_type": "markdown",
   "metadata": {},
   "source": [
    "When using strings we can also change their formatting using \"Methods\". \n",
    "\n",
    "Methods are like functions (something which we will look at a little later) which apply directly to the object to which it's attached. It is simply an action that Python can perform on a bit of data."
   ]
  },
  {
   "cell_type": "markdown",
   "metadata": {},
   "source": [
    "For example, say we have the string attached to a variable:"
   ]
  },
  {
   "cell_type": "code",
   "execution_count": 23,
   "metadata": {},
   "outputs": [],
   "source": [
    "name_of_course = \"intro to python\""
   ]
  },
  {
   "cell_type": "markdown",
   "metadata": {},
   "source": [
    "We can then format this string by applying a method. In this case lets use the title() method to capitalise the start of each word. To see what this will look like, let's use the print function to print the string."
   ]
  },
  {
   "cell_type": "code",
   "execution_count": 24,
   "metadata": {},
   "outputs": [
    {
     "name": "stdout",
     "output_type": "stream",
     "text": [
      "Intro To Python\n"
     ]
    }
   ],
   "source": [
    "print(name_of_course.title())"
   ]
  },
  {
   "cell_type": "markdown",
   "metadata": {},
   "source": [
    "Notice that this is done by applying the title() method to the object; in this case, the variable name_of_course. \n",
    "\n",
    "The dot that comes before the method - .title() - indicates to Python that the method should be applied to the variable preceding it."
   ]
  },
  {
   "cell_type": "markdown",
   "metadata": {},
   "source": [
    "The method is always followed by parantheses as this gives the method the ability to use additional information (within the parentheses) - this isn't necessary for the title() method as it only focuses on turning the string into title case."
   ]
  },
  {
   "cell_type": "markdown",
   "metadata": {},
   "source": [
    "Here are some other examples:"
   ]
  },
  {
   "cell_type": "code",
   "execution_count": 26,
   "metadata": {},
   "outputs": [
    {
     "name": "stdout",
     "output_type": "stream",
     "text": [
      "INTRO TO PYTHON\n",
      "intro to python\n"
     ]
    }
   ],
   "source": [
    "name_of_course = \"intro to python\"\n",
    "\n",
    "# printing text in all upper case \n",
    "\n",
    "print(name_of_course.upper())\n",
    "\n",
    "\n",
    "# printing text in all lower case\n",
    "\n",
    "print(name_of_course.lower())"
   ]
  },
  {
   "cell_type": "markdown",
   "metadata": {},
   "source": [
    "You may wonder what the purpose of using all lowercase is. The benefits of using this as an option is particular useful when you are looking to store data. For example, such as when you have a program where users are submitting data. I'm sure you can think of times when you've entered your details into an app/web-app/program before and you accidentally have a capital in the wrong place/don't capitalise when you should have. \n",
    "\n",
    "By converting everything to lowercase you can avoid this issue, in order to make sure your data is all formatted the same way. Then when you need to access the data - such as when you want to display it - you can use one of these methods to format it. Such as using the title() method to present the information in title case. "
   ]
  },
  {
   "cell_type": "markdown",
   "metadata": {},
   "source": [
    " "
   ]
  },
  {
   "cell_type": "markdown",
   "metadata": {},
   "source": [
    " ----"
   ]
  },
  {
   "cell_type": "markdown",
   "metadata": {},
   "source": [
    "#### Variables in Strings"
   ]
  },
  {
   "cell_type": "markdown",
   "metadata": {},
   "source": [
    "So in the examples we've looked at so far, we've simply just seen what it's like to have just the data included in the string:"
   ]
  },
  {
   "cell_type": "code",
   "execution_count": 62,
   "metadata": {},
   "outputs": [],
   "source": [
    "variable = \"This is a string which stores the value of the variable\""
   ]
  },
  {
   "cell_type": "markdown",
   "metadata": {},
   "source": [
    "What we can do though is also include variables in the string. \n",
    "\n",
    "Why? Well, remember that a variable is just a container of information, so we might want to use the value that is stored in that variable, in the string. We could write it such as this:"
   ]
  },
  {
   "cell_type": "code",
   "execution_count": 75,
   "metadata": {},
   "outputs": [
    {
     "name": "stdout",
     "output_type": "stream",
     "text": [
      "hello world!\n"
     ]
    }
   ],
   "source": [
    "greeting_1 = \"hello\"\n",
    "object_1 = \"world\"\n",
    "\n",
    "statement_1 = greeting_1 + \" \" + object_1 + \"!\"\n",
    "\n",
    "print(statement_1)"
   ]
  },
  {
   "cell_type": "markdown",
   "metadata": {},
   "source": [
    "This could also be written as this though:"
   ]
  },
  {
   "cell_type": "code",
   "execution_count": 71,
   "metadata": {},
   "outputs": [
    {
     "name": "stdout",
     "output_type": "stream",
     "text": [
      "hello world!\n"
     ]
    }
   ],
   "source": [
    "greeting_1 = \"hello\"\n",
    "object_1 = \"world\"\n",
    "\n",
    "statement_1 = f\"{greeting_1} {object_1}!\"\n",
    "print(statement_1)"
   ]
  },
  {
   "cell_type": "markdown",
   "metadata": {},
   "source": [
    "What we have created here is an *f-string*. These are called *f-strings* as the *f* stands for *format*.\n",
    "\n",
    "In order to insert the value of a variable into a string, we use the letter *f* before the opening quote mark. This replaces each variable name, in the brackets, with the value which is stored in the corresponding variable. \n"
   ]
  },
  {
   "cell_type": "markdown",
   "metadata": {},
   "source": [
    "For example, if we were to write some code without *f*: "
   ]
  },
  {
   "cell_type": "code",
   "execution_count": 54,
   "metadata": {},
   "outputs": [
    {
     "name": "stdout",
     "output_type": "stream",
     "text": [
      "{academic_year} {course_name}\n"
     ]
    }
   ],
   "source": [
    "academic_year = \"year 1\"\n",
    "course_name = \"economics\"\n",
    "\n",
    "academic_heading = \"{academic_year} {course_name}\"\n",
    "print(academic_heading)"
   ]
  },
  {
   "cell_type": "markdown",
   "metadata": {},
   "source": [
    "You'll notice it only prints the string and not what we want it to correspond to."
   ]
  },
  {
   "cell_type": "markdown",
   "metadata": {},
   "source": [
    " "
   ]
  },
  {
   "cell_type": "markdown",
   "metadata": {},
   "source": [
    "What we can then do is take what we learnt from the Methods section, to help format our answers. In this case we have assigned an entire f-string to the variable *message* and have formatted it so the *academic_heading* variable inserted in the string will be produced with title case:"
   ]
  },
  {
   "cell_type": "code",
   "execution_count": 56,
   "metadata": {},
   "outputs": [
    {
     "name": "stdout",
     "output_type": "stream",
     "text": [
      "Year and Course: Year 1, Economics\n"
     ]
    }
   ],
   "source": [
    "academic_year = \"year 1\"\n",
    "course_name = \"economics\"\n",
    "\n",
    "academic_heading = f\"{academic_year}, {course_name}\"\n",
    "message = f\"Year and Course: {academic_heading.title()}\" \n",
    "print(message)\n",
    "\n"
   ]
  },
  {
   "cell_type": "markdown",
   "metadata": {},
   "source": [
    "An alternative way of writing this (and to save writing an extra line of code) is as follows:"
   ]
  },
  {
   "cell_type": "code",
   "execution_count": 61,
   "metadata": {},
   "outputs": [
    {
     "name": "stdout",
     "output_type": "stream",
     "text": [
      "Year and Course: Year 1, Economics\n"
     ]
    }
   ],
   "source": [
    "academic_year = \"year 1\"\n",
    "course_name = \"economics\"\n",
    "\n",
    "academic_heading = f\"{academic_year}, {course_name}\"\n",
    "print(f\"Year and Course: {academic_heading.title()}\")\n"
   ]
  },
  {
   "cell_type": "markdown",
   "metadata": {},
   "source": [
    " "
   ]
  },
  {
   "cell_type": "markdown",
   "metadata": {},
   "source": [
    "----"
   ]
  },
  {
   "cell_type": "markdown",
   "metadata": {},
   "source": [
    "#### Other useful tools for Strings"
   ]
  },
  {
   "cell_type": "markdown",
   "metadata": {},
   "source": [
    "As you can probably see from what we've looked at so far, a lot of the code we have focused on is to do with formatting. When manipulating text-based data this is unsurprising as we want the program to be able to read it as well as be able to format it neatly if we are looking to print it as well. \n",
    "\n",
    "For this reason, here are some others useful tools you can use to format your strings. these tools help make the output more readible for users:"
   ]
  },
  {
   "cell_type": "markdown",
   "metadata": {},
   "source": [
    "#### *Creating tabs*"
   ]
  },
  {
   "cell_type": "markdown",
   "metadata": {},
   "source": [
    "To help make certain text or information clearer to read, you can write code to ensure that tabs are inserted to help with this:"
   ]
  },
  {
   "cell_type": "code",
   "execution_count": 113,
   "metadata": {},
   "outputs": [
    {
     "name": "stdout",
     "output_type": "stream",
     "text": [
      "Year and Course: Year 1, Economics\n",
      "\t- Optional modules will be released on 25/01/2021.\n"
     ]
    }
   ],
   "source": [
    "academic_year = \"year 1\"\n",
    "course_name = \"economics\"\n",
    "academic_heading = f\"{academic_year}, {course_name}\"\n",
    "\n",
    "print(f\"Year and Course: {academic_heading.title()}\")\n",
    "\n",
    "if academic_heading == \"year 1, economics\":\n",
    "    print(\"\\t- Optional modules will be released on 25/01/2021.\")"
   ]
  },
  {
   "cell_type": "markdown",
   "metadata": {},
   "source": [
    "In the example of code above, whilst we've included an *if* statement (something which we will look at when we look at Control Flow) this is just to add more line of code to the program. The feature that has been included to create a tab in the output, is in the print statement below this and uses the character combination */t* where we want to add a tab. This is just to show it in context."
   ]
  },
  {
   "cell_type": "markdown",
   "metadata": {},
   "source": [
    "A more simple demonstration of this is: "
   ]
  },
  {
   "cell_type": "code",
   "execution_count": 85,
   "metadata": {},
   "outputs": [
    {
     "name": "stdout",
     "output_type": "stream",
     "text": [
      "Hello World!\n",
      "\tThis will be indented.\n"
     ]
    }
   ],
   "source": [
    "print(\"Hello World!\")\n",
    "print(\"\\tThis will be indented.\")"
   ]
  },
  {
   "cell_type": "markdown",
   "metadata": {},
   "source": [
    " "
   ]
  },
  {
   "cell_type": "markdown",
   "metadata": {},
   "source": [
    "#### *Creating new lines*"
   ]
  },
  {
   "cell_type": "markdown",
   "metadata": {},
   "source": [
    "It might also be useful to present information spread across multiple lines. To do this, we will need to indicate to Python where these lines occur.\n",
    "\n",
    "For example:"
   ]
  },
  {
   "cell_type": "code",
   "execution_count": 88,
   "metadata": {},
   "outputs": [
    {
     "name": "stdout",
     "output_type": "stream",
     "text": [
      "The following courses will also be covered by soton_codes:\n",
      "\n",
      "Intro to AI\n",
      "Intro to Blockchain\n",
      "Intro to Digital Design\n",
      "Intro to Web Design\n"
     ]
    }
   ],
   "source": [
    "print(\"The following courses will also be covered by Vema Academy:\\n\\nIntro to AI\\nIntro to Blockchain\\nIntro to Digital Design\\nIntro to Web Design\")"
   ]
  },
  {
   "cell_type": "markdown",
   "metadata": {},
   "source": [
    "Just like using \\t, for creating a new line, we insert *\\n* where we desire to enter a new line. You will notice this can also create empty lines as well, which can be useful to make your output easier to read."
   ]
  },
  {
   "cell_type": "markdown",
   "metadata": {},
   "source": [
    " "
   ]
  },
  {
   "cell_type": "markdown",
   "metadata": {},
   "source": [
    "#### *Avoiding errors with Strings*"
   ]
  },
  {
   "cell_type": "markdown",
   "metadata": {},
   "source": [
    "When writing strings, it is easy to make mistakes (especially when using lengthy strings) due to the amount of text involved as well as the various formatting rules.\n",
    "\n",
    "As we've mentioned in the last session, we must ensure we use the quote marks correctly to avoid Syntax Errors:"
   ]
  },
  {
   "cell_type": "code",
   "execution_count": 108,
   "metadata": {},
   "outputs": [
    {
     "ename": "SyntaxError",
     "evalue": "invalid syntax (<ipython-input-108-3599809e2b14>, line 8)",
     "output_type": "error",
     "traceback": [
      "\u001b[0;36m  File \u001b[0;32m\"<ipython-input-108-3599809e2b14>\"\u001b[0;36m, line \u001b[0;32m8\u001b[0m\n\u001b[0;31m    variable = 'This string will lead to a syntax error because it's using single quotes and because are apostrophes in the code'\u001b[0m\n\u001b[0m                                                                   ^\u001b[0m\n\u001b[0;31mSyntaxError\u001b[0m\u001b[0;31m:\u001b[0m invalid syntax\n"
     ]
    }
   ],
   "source": [
    "single_quote_marks = 'We can use single quote marks.'\n",
    "double_quote_marks = \"We can use double quote marks.\"\n",
    "\n",
    "including_quote_in_string = \"This is important as it means we can use a 'quote' in a string.\"\n",
    "\n",
    "# It also means we can avoid issues such as this:\n",
    "\n",
    "variable = 'This string will lead to a syntax error because it's using single quotes and because are apostrophes in the code'\n",
    "variable"
   ]
  },
  {
   "cell_type": "markdown",
   "metadata": {},
   "source": [
    " "
   ]
  },
  {
   "cell_type": "markdown",
   "metadata": {},
   "source": [
    " "
   ]
  },
  {
   "cell_type": "markdown",
   "metadata": {},
   "source": [
    "#### *Removing 'whitespace'*"
   ]
  },
  {
   "cell_type": "markdown",
   "metadata": {},
   "source": [
    "Whitespace is often used to describe the blank spaces which can appear in lines of code. These may be intentional with new lines and tabs, but they can also appear by mistake. The significance of this is that spaces in the \"wrong\" place can cause problems for Python. \n",
    "\n",
    "As we've seen in the last session in our Syntax Notebook (available on the Facebook group), this can occur when indentation isn't used to indicate a block of code. \n",
    "\n",
    "For example:"
   ]
  },
  {
   "cell_type": "code",
   "execution_count": 114,
   "metadata": {},
   "outputs": [
    {
     "name": "stdout",
     "output_type": "stream",
     "text": [
      "This is True\n"
     ]
    }
   ],
   "source": [
    "a = 10\n",
    "\n",
    "if a <= 10: \n",
    "    print(\"This is True\")\n",
    "else:\n",
    "    print('This is Not True')\n",
    "    "
   ]
  },
  {
   "cell_type": "markdown",
   "metadata": {},
   "source": [
    "Another example to highlight this, and which might be more relatable, is creating a username/password for a website. If you can think of the times when you have had to this, I'm sure there will have been the odd occasion where you have accidentally added a space. Whilst it's just a space, it often affects how it is read. In the case of Python, it is the same sort of thing."
   ]
  },
  {
   "cell_type": "code",
   "execution_count": null,
   "metadata": {},
   "outputs": [],
   "source": [
    "\"whitespace \"\n",
    "\n",
    "# will be read differently to:\n",
    "\n",
    "\"whitespace\""
   ]
  },
  {
   "cell_type": "markdown",
   "metadata": {},
   "source": [
    "Luckily, there is a method we can use to help prevent this problem and avoid any potential errors. "
   ]
  },
  {
   "cell_type": "code",
   "execution_count": 92,
   "metadata": {},
   "outputs": [
    {
     "data": {
      "text/plain": [
       "'whitespace '"
      ]
     },
     "execution_count": 92,
     "metadata": {},
     "output_type": "execute_result"
    }
   ],
   "source": [
    "# Let's see what it looks like when we have a string with a whitespace \n",
    "\n",
    "variable = \"whitespace \"\n",
    "\n",
    "variable "
   ]
  },
  {
   "cell_type": "markdown",
   "metadata": {},
   "source": [
    "The method which we can use is the strip( ) method. This will remove any extra whitespace at the start or end of a string, depending on which method is used. Let's use the example above but add another line so that there's a space at the start of the string as well:"
   ]
  },
  {
   "cell_type": "code",
   "execution_count": 101,
   "metadata": {},
   "outputs": [
    {
     "data": {
      "text/plain": [
       "'whitespace'"
      ]
     },
     "execution_count": 101,
     "metadata": {},
     "output_type": "execute_result"
    }
   ],
   "source": [
    "# Here we have variable_1 with the whitespace at the end of the string\n",
    "\n",
    "variable_1 = \"whitespace \"\n",
    "\n",
    "\n",
    "# For variable_1, the space is at the end of the string (on the right) we will use 'rstrip()'\n",
    "\n",
    "variable_1.rstrip()"
   ]
  },
  {
   "cell_type": "code",
   "execution_count": 100,
   "metadata": {},
   "outputs": [
    {
     "data": {
      "text/plain": [
       "'whitespace'"
      ]
     },
     "execution_count": 100,
     "metadata": {},
     "output_type": "execute_result"
    }
   ],
   "source": [
    "# Here we have variable_2 with the whitespace at the start of the string\n",
    "\n",
    "variable_2 = \" whitespace\"\n",
    "\n",
    "# For variable_2, the space is at the start of the string (on the left) we will use 'lstrip()'\n",
    "\n",
    "variable_2.lstrip()"
   ]
  },
  {
   "cell_type": "markdown",
   "metadata": {},
   "source": [
    "As you can see, in both cases the extra whitespace is removed. The issue with this method is that it is only temporary. If variable was called again, it would revert back to it's original formatting. \n",
    "\n",
    "As a result we need to associate the stripped value (the value which has the whitespace removed) to the variable:"
   ]
  },
  {
   "cell_type": "code",
   "execution_count": 103,
   "metadata": {},
   "outputs": [
    {
     "data": {
      "text/plain": [
       "'whitespace'"
      ]
     },
     "execution_count": 103,
     "metadata": {},
     "output_type": "execute_result"
    }
   ],
   "source": [
    "variable_1 = \"whitespace \"\n",
    "variable_1 = variable_1.rstrip()\n",
    "variable_1"
   ]
  },
  {
   "cell_type": "markdown",
   "metadata": {},
   "source": [
    "----"
   ]
  },
  {
   "cell_type": "markdown",
   "metadata": {},
   "source": [
    "### Functions"
   ]
  },
  {
   "cell_type": "markdown",
   "metadata": {},
   "source": [
    "As we have already seen, Functions act as mini-programs within Python, as they are pre-defined with a set of instructions to perform."
   ]
  },
  {
   "cell_type": "code",
   "execution_count": 109,
   "metadata": {},
   "outputs": [
    {
     "name": "stdout",
     "output_type": "stream",
     "text": [
      "Hello World!\n"
     ]
    }
   ],
   "source": [
    "# A good example of this is the print() function \n",
    "\n",
    "print(\"Hello World!\")"
   ]
  },
  {
   "cell_type": "markdown",
   "metadata": {},
   "source": [
    "Whilst we don't necessarily need to know how this works, we know that we can call this function to print a string. It takes the input and creates output. The value which we input between the parentheses ( ) in the function is known as the argument."
   ]
  },
  {
   "cell_type": "markdown",
   "metadata": {},
   "source": [
    "When coding your own programs, one function which you might find particularly useful is the input function, which allows users to enter text of their own. \n",
    "\n",
    "A classic use case for this is when users are creating a username on a website or app:"
   ]
  },
  {
   "cell_type": "code",
   "execution_count": 111,
   "metadata": {},
   "outputs": [
    {
     "name": "stdout",
     "output_type": "stream",
     "text": [
      "Tom\n"
     ]
    }
   ],
   "source": [
    "userName001 = input()"
   ]
  },
  {
   "cell_type": "markdown",
   "metadata": {},
   "source": [
    "This will then store the user input in that variable. Try this in the example below!\n",
    "\n",
    "This username can then be called at another time, such as in a welcome message:"
   ]
  },
  {
   "cell_type": "code",
   "execution_count": null,
   "metadata": {},
   "outputs": [],
   "source": [
    "userName001 = input()\n",
    "\n",
    "print(\"Welcome to soton_codes, \" + userName001)"
   ]
  },
  {
   "cell_type": "markdown",
   "metadata": {},
   "source": [
    "----"
   ]
  },
  {
   "cell_type": "markdown",
   "metadata": {},
   "source": [
    "## Resources "
   ]
  },
  {
   "cell_type": "code",
   "execution_count": null,
   "metadata": {},
   "outputs": [],
   "source": [
    "- http://www.python-ds.com/python-3-string-methods\n",
    "- https://data-flair.training/blogs/python-method/\n",
    "- https://www.w3schools.com/python/python_strings.asp\n",
    "- https://developers.google.com/edu/python/strings\n",
    "- https://realpython.com/python-strings/\n",
    "- https://www.w3resource.com/python-exercises/string/\n",
    "- https://datascienceplus.com/methods-vs-functions-in-python/"
   ]
  }
 ],
 "metadata": {
  "kernelspec": {
   "display_name": "Python 3",
   "language": "python",
   "name": "python3"
  },
  "language_info": {
   "codemirror_mode": {
    "name": "ipython",
    "version": 3
   },
   "file_extension": ".py",
   "mimetype": "text/x-python",
   "name": "python",
   "nbconvert_exporter": "python",
   "pygments_lexer": "ipython3",
   "version": "3.7.6"
  }
 },
 "nbformat": 4,
 "nbformat_minor": 4
}
