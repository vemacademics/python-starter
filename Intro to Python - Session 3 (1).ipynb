{
 "cells": [
  {
   "cell_type": "markdown",
   "metadata": {},
   "source": [
    "# Intro to Python - Session 3 "
   ]
  },
  {
   "cell_type": "markdown",
   "metadata": {},
   "source": [
    "----"
   ]
  },
  {
   "cell_type": "markdown",
   "metadata": {},
   "source": [
    "## Recap "
   ]
  },
  {
   "cell_type": "markdown",
   "metadata": {},
   "source": [
    "In last week's session we covered:"
   ]
  },
  {
   "cell_type": "markdown",
   "metadata": {},
   "source": [
    "### Strings"
   ]
  },
  {
   "cell_type": "code",
   "execution_count": 66,
   "metadata": {},
   "outputs": [
    {
     "name": "stdout",
     "output_type": "stream",
     "text": [
      "We looked at strings and some of their uses.\n"
     ]
    }
   ],
   "source": [
    "print(\"We looked at strings and some of their uses.\")"
   ]
  },
  {
   "cell_type": "markdown",
   "metadata": {},
   "source": [
    " "
   ]
  },
  {
   "cell_type": "markdown",
   "metadata": {},
   "source": [
    "This included combining multiple strings together:"
   ]
  },
  {
   "cell_type": "code",
   "execution_count": 2,
   "metadata": {},
   "outputs": [
    {
     "data": {
      "text/plain": [
       "'string concantenation'"
      ]
     },
     "execution_count": 2,
     "metadata": {},
     "output_type": "execute_result"
    }
   ],
   "source": [
    "\"string\" + \" concantenation\""
   ]
  },
  {
   "cell_type": "markdown",
   "metadata": {},
   "source": [
    "It also included using variables in strings:"
   ]
  },
  {
   "cell_type": "code",
   "execution_count": 5,
   "metadata": {},
   "outputs": [
    {
     "name": "stdout",
     "output_type": "stream",
     "text": [
      "hello world!\n"
     ]
    }
   ],
   "source": [
    "greeting_1 = \"hello\"\n",
    "object_1 = \"world\"\n",
    "\n",
    "statement_1 = greeting_1 + \" \" + object_1 + \"!\"\n",
    "\n",
    "print(statement_1)"
   ]
  },
  {
   "cell_type": "markdown",
   "metadata": {},
   "source": [
    "And then improving this code using *f* strings:"
   ]
  },
  {
   "cell_type": "code",
   "execution_count": 6,
   "metadata": {},
   "outputs": [
    {
     "name": "stdout",
     "output_type": "stream",
     "text": [
      "hello world!\n"
     ]
    }
   ],
   "source": [
    "greeting_1 = \"hello\"\n",
    "object_1 = \"world\"\n",
    "\n",
    "statement_1 = f\"{greeting_1} {object_1}!\"\n",
    "print(statement_1)"
   ]
  },
  {
   "cell_type": "markdown",
   "metadata": {},
   "source": [
    " "
   ]
  },
  {
   "cell_type": "markdown",
   "metadata": {},
   "source": [
    "We also looked at some of the ways we can format strings. "
   ]
  },
  {
   "cell_type": "markdown",
   "metadata": {},
   "source": [
    " ----"
   ]
  },
  {
   "cell_type": "markdown",
   "metadata": {},
   "source": [
    "### Methods"
   ]
  },
  {
   "cell_type": "code",
   "execution_count": 3,
   "metadata": {},
   "outputs": [
    {
     "name": "stdout",
     "output_type": "stream",
     "text": [
      "Intro To Python\n"
     ]
    }
   ],
   "source": [
    "# Method to apply title case to a string\n",
    "\n",
    "name_of_course = 'intro to python'\n",
    "print(name_of_course.title())"
   ]
  },
  {
   "cell_type": "code",
   "execution_count": 4,
   "metadata": {},
   "outputs": [
    {
     "name": "stdout",
     "output_type": "stream",
     "text": [
      "INTRO TO PYTHON\n",
      "intro to python\n"
     ]
    }
   ],
   "source": [
    "# printing text in all upper case \n",
    "\n",
    "name_of_course = \"intro to python\"\n",
    "print(name_of_course.upper())\n",
    "\n",
    "\n",
    "# printing text in all lower case\n",
    "\n",
    "print(name_of_course.lower())"
   ]
  },
  {
   "cell_type": "markdown",
   "metadata": {},
   "source": [
    "We also added methods to our *f* strings:"
   ]
  },
  {
   "cell_type": "code",
   "execution_count": 8,
   "metadata": {},
   "outputs": [
    {
     "name": "stdout",
     "output_type": "stream",
     "text": [
      "Year and Course: Year 1, Economics\n"
     ]
    }
   ],
   "source": [
    "academic_year = \"year 1\"\n",
    "course_name = \"economics\"\n",
    "\n",
    "academic_heading = f\"{academic_year}, {course_name}\"\n",
    "print(f\"Year and Course: {academic_heading.title()}\")"
   ]
  },
  {
   "cell_type": "markdown",
   "metadata": {},
   "source": [
    "  "
   ]
  },
  {
   "cell_type": "markdown",
   "metadata": {},
   "source": [
    "See the Notebook for more info on formatting/avoiding errors with Strings."
   ]
  },
  {
   "cell_type": "markdown",
   "metadata": {},
   "source": [
    "----"
   ]
  },
  {
   "cell_type": "markdown",
   "metadata": {},
   "source": [
    "### Functions"
   ]
  },
  {
   "cell_type": "markdown",
   "metadata": {},
   "source": [
    "The final area we looked at was Functions; basically mini-programs which are pre-defined in Python:"
   ]
  },
  {
   "cell_type": "code",
   "execution_count": 124,
   "metadata": {},
   "outputs": [
    {
     "name": "stdout",
     "output_type": "stream",
     "text": [
      "Hello World!\n"
     ]
    }
   ],
   "source": [
    "# A good example of this is the print() function \n",
    "\n",
    "print(\"Hello World!\")"
   ]
  },
  {
   "cell_type": "markdown",
   "metadata": {},
   "source": [
    " "
   ]
  },
  {
   "cell_type": "markdown",
   "metadata": {},
   "source": [
    "----"
   ]
  },
  {
   "cell_type": "markdown",
   "metadata": {},
   "source": [
    "## This Week! "
   ]
  },
  {
   "cell_type": "markdown",
   "metadata": {},
   "source": [
    "This week we're going to take a look at:\n",
    "\n",
    "- Lists \n",
    "- Loops\n",
    "- Control Flow "
   ]
  },
  {
   "cell_type": "markdown",
   "metadata": {},
   "source": [
    "### Lists"
   ]
  },
  {
   "cell_type": "markdown",
   "metadata": {},
   "source": [
    "Lists are a useful feature of Python which allow you to store sets of information in one location. It stores a list of items in a particular order - these items can be any information which you wish to store in this format and do not have to be related. "
   ]
  },
  {
   "cell_type": "markdown",
   "metadata": {},
   "source": [
    "When naming lists, as there are multiple items stored within them it is good practice to make sure the name of the list is plural. For example:"
   ]
  },
  {
   "cell_type": "code",
   "execution_count": 125,
   "metadata": {},
   "outputs": [],
   "source": [
    "# In this case we have a list of car brands\n",
    "\n",
    "cars = ['ferrari', 'jaguar', 'mercedes', 'aston martin']"
   ]
  },
  {
   "cell_type": "markdown",
   "metadata": {},
   "source": [
    "You'll notice that with the list above, we've formatted it in a specific manner. "
   ]
  },
  {
   "cell_type": "markdown",
   "metadata": {},
   "source": [
    "* Firstly, when creating a list it is the same as using a variable in that we give it a name under which we store this information. For this example, we have given it the name *cars* - following the rules of best practice we have looked at in previous sessions."
   ]
  },
  {
   "cell_type": "markdown",
   "metadata": {},
   "source": [
    "* Secondly, in order for Python to recognise this set of information as a list, we must use [square brackets] to indicate what items are to be included in the list. "
   ]
  },
  {
   "cell_type": "markdown",
   "metadata": {},
   "source": [
    "* Lastly, within these brackets we must still follow the String rules for Python, this being that we must include any non-integer/floats within quote marks. As this a list of items, the quote marks must go around each item and have these items separated by commas."
   ]
  },
  {
   "cell_type": "markdown",
   "metadata": {},
   "source": [
    "If we were to then use Python to print this list, we'd get the following:"
   ]
  },
  {
   "cell_type": "code",
   "execution_count": 126,
   "metadata": {},
   "outputs": [
    {
     "name": "stdout",
     "output_type": "stream",
     "text": [
      "['ferrari', 'jaguar', 'mercedes', 'aston martin']\n"
     ]
    }
   ],
   "source": [
    "cars = ['ferrari', 'jaguar', 'mercedes', 'aston martin']\n",
    "print(cars)"
   ]
  },
  {
   "cell_type": "markdown",
   "metadata": {},
   "source": [
    "We can also double-check we are working with a list by using the .type() function which we looked at in the last session:"
   ]
  },
  {
   "cell_type": "code",
   "execution_count": 127,
   "metadata": {},
   "outputs": [
    {
     "name": "stdout",
     "output_type": "stream",
     "text": [
      "['ferrari', 'jaguar', 'mercedes', 'aston martin']\n"
     ]
    },
    {
     "data": {
      "text/plain": [
       "list"
      ]
     },
     "execution_count": 127,
     "metadata": {},
     "output_type": "execute_result"
    }
   ],
   "source": [
    "cars = ['ferrari', 'jaguar', 'mercedes', 'aston martin']\n",
    "print(cars)\n",
    "type(cars)"
   ]
  },
  {
   "cell_type": "markdown",
   "metadata": {},
   "source": [
    "#### Other data types in Lists"
   ]
  },
  {
   "cell_type": "markdown",
   "metadata": {},
   "source": [
    "We can also use other data types in lists:"
   ]
  },
  {
   "cell_type": "code",
   "execution_count": 128,
   "metadata": {},
   "outputs": [
    {
     "name": "stdout",
     "output_type": "stream",
     "text": [
      "[1, 2, 3, 4, 5]\n",
      "[1.1, 2.2, 3.3, 4.4, 5.5]\n",
      "[False, False, True]\n",
      "['apples', 3.5, True, 60]\n"
     ]
    }
   ],
   "source": [
    "# Let's use some variable names which describe these lists\n",
    "\n",
    "int_list = [1, 2, 3, 4, 5]\n",
    "flt_list = [1.1, 2.2, 3.3, 4.4, 5.5]\n",
    "boo_list = [False, False, True]\n",
    "\n",
    "\n",
    "print(int_list)\n",
    "print(flt_list)\n",
    "print(boo_list)\n",
    "\n",
    "# A list can also contain different data types\n",
    "\n",
    "dif_list = ['apples', 3.5, True, 60]\n",
    "\n",
    "print(dif_list)"
   ]
  },
  {
   "cell_type": "markdown",
   "metadata": {},
   "source": [
    "Despite following the specific formatting rules, we get this as our output. Clearly this isn't very accessible or presentable so let's look at how we can access the information stored in the list. "
   ]
  },
  {
   "cell_type": "markdown",
   "metadata": {},
   "source": [
    "----"
   ]
  },
  {
   "cell_type": "markdown",
   "metadata": {},
   "source": [
    "#### Accessing information from a List"
   ]
  },
  {
   "cell_type": "markdown",
   "metadata": {},
   "source": [
    "When using a list of elements (values of any data type) in Python, our input is indexed. What this means is that Python assigns an index to each element which is added. Python recognises the list as an ordered collection, meaning that each element in the list can be accessed through this index. For example:"
   ]
  },
  {
   "cell_type": "code",
   "execution_count": 129,
   "metadata": {},
   "outputs": [
    {
     "name": "stdout",
     "output_type": "stream",
     "text": [
      "ferrari\n"
     ]
    }
   ],
   "source": [
    "#We'll use the same list as last time using the four car brands as our elements.\n",
    "\n",
    "cars = ['ferrari', 'jaguar', 'mercedes', 'aston martin']\n",
    "\n",
    "# When accessing this list you must firstly identify the list, then give the index of the element you want to access\n",
    "# In this case we use the print() function to print this element \n",
    "\n",
    "print(cars[0])"
   ]
  },
  {
   "cell_type": "markdown",
   "metadata": {},
   "source": [
    "Whilst we have four elements in this list, it is important to remember that the first element in the list will always be indexed as zero. As you can see, we demonstrate this in the example above by using the index[0]. \n",
    "\n",
    "If you forget this, you will get an IndexError. This will likely be because you have tried to find an index which doesn't exist. For example, if you had a list of 4 items, the first one would be indexed as 0. If you asked for cars[4] trying to find the last value in the list, this would be wrong as the last value is indexed at [3].\n"
   ]
  },
  {
   "cell_type": "code",
   "execution_count": 130,
   "metadata": {},
   "outputs": [
    {
     "name": "stdout",
     "output_type": "stream",
     "text": [
      "ferrari\n"
     ]
    }
   ],
   "source": [
    "cars = ['ferrari', 'jaguar', 'mercedes', 'aston martin']\n",
    "\n",
    "#           0          1         2             3\n",
    "\n",
    "print(cars[0])\n",
    "\n",
    "# It is important that you remember this as it is very easy to forget that lists always start at zero.\n"
   ]
  },
  {
   "cell_type": "markdown",
   "metadata": {},
   "source": [
    "As you can see in the example above, the output which is returned is without the square brackets and quote marks making it more readable."
   ]
  },
  {
   "cell_type": "markdown",
   "metadata": {},
   "source": [
    "We can further improve the readability of this output by applying what we learnt in the last session: Methods. \n",
    "    \n",
    "In this case, as we're talking about car brands, it's probably more appropriate that we recognise these as proper nouns because we are describing brand names. For this reason, let's use the title() method:"
   ]
  },
  {
   "cell_type": "code",
   "execution_count": 131,
   "metadata": {},
   "outputs": [
    {
     "name": "stdout",
     "output_type": "stream",
     "text": [
      "Ferrari\n"
     ]
    }
   ],
   "source": [
    "cars = ['ferrari', 'jaguar', 'mercedes', 'aston martin']\n",
    "\n",
    "# To use this method, all we have to do is to indicate we want to apply it to this element, so add it after the index\n",
    "\n",
    "print(cars[0].title())"
   ]
  },
  {
   "cell_type": "markdown",
   "metadata": {},
   "source": [
    "When using lists, there are also some useful tricks to use - particularly when lists are quite long and we don't necesssarily know where the element is indexed. For example:"
   ]
  },
  {
   "cell_type": "code",
   "execution_count": 132,
   "metadata": {},
   "outputs": [
    {
     "name": "stdout",
     "output_type": "stream",
     "text": [
      "aston martin\n"
     ]
    }
   ],
   "source": [
    "cars = ['ferrari', 'jaguar', 'mercedes', 'aston martin']\n",
    "\n",
    "# In this case we have used the index [-1]: this returns the item at the end of the list.\n",
    "\n",
    "print(cars[-1])"
   ]
  },
  {
   "cell_type": "markdown",
   "metadata": {},
   "source": [
    "This syntax can be used for other elements in the list using the same logic:\n",
    "\n",
    "Last item in list            = [-1]\n",
    "\n",
    "Second last item in list     = [-2]\n",
    "\n",
    "Third last item in list      = [-3]"
   ]
  },
  {
   "cell_type": "markdown",
   "metadata": {},
   "source": [
    "We can also use another feature which we covered last week: f-strings. This is so that we can extract an element from this list and use it for something. In this case, we might have a web-app which displays a load of car information. You might have selected a certain car you want to purchase and you could use what we have learnt so far to return a message to the user:"
   ]
  },
  {
   "cell_type": "code",
   "execution_count": 133,
   "metadata": {},
   "outputs": [
    {
     "name": "stdout",
     "output_type": "stream",
     "text": [
      "Are you sure you wish to purchase a Ferrari?\n"
     ]
    }
   ],
   "source": [
    "cars = ['ferrari', 'jaguar', 'mercedes', 'aston martin']\n",
    "\n",
    "# Here we use an f-string to access a value from the list, indexed at [0], and then applying the title() method\n",
    "# By using the f-string, this value is then incorporated in the string\n",
    "\n",
    "user_message = f\"Are you sure you wish to purchase a {cars[0].title()}?\"\n",
    "\n",
    "print(user_message)"
   ]
  },
  {
   "cell_type": "markdown",
   "metadata": {},
   "source": [
    "When using an f-string to do this, remember to follow the rules which we covered in last week's session. "
   ]
  },
  {
   "cell_type": "markdown",
   "metadata": {},
   "source": [
    "----"
   ]
  },
  {
   "cell_type": "markdown",
   "metadata": {},
   "source": [
    "### What happens when we want to modify the elements in a List?"
   ]
  },
  {
   "cell_type": "markdown",
   "metadata": {},
   "source": [
    "#### Swapping/updating elements"
   ]
  },
  {
   "cell_type": "markdown",
   "metadata": {},
   "source": [
    "Whilst is useful to store information in lists, it will be rare that you will use static lists. Chances are you will want to change the information stored there; either adding more elements or removing elements."
   ]
  },
  {
   "cell_type": "markdown",
   "metadata": {},
   "source": [
    "This is especially true when we look at developing our own games whereby the actions of the user will affect what information is needed or made redundant. "
   ]
  },
  {
   "cell_type": "markdown",
   "metadata": {},
   "source": [
    "Remember in a previous session where we described Python as having dynamic semantics? This is useful when it comes to editing what we have stored in our list. What this means is that we can provide the name of the list which contains the element we want to change, give its index and then provide the value which we want to update it to. For example:"
   ]
  },
  {
   "cell_type": "code",
   "execution_count": 134,
   "metadata": {},
   "outputs": [
    {
     "name": "stdout",
     "output_type": "stream",
     "text": [
      "['ferrari', 'jaguar', 'mercedes', 'aston martin']\n",
      "['lexus', 'jaguar', 'mercedes', 'aston martin']\n"
     ]
    }
   ],
   "source": [
    "cars = ['ferrari', 'jaguar', 'mercedes', 'aston martin']\n",
    "print(cars)\n",
    "\n",
    "# Lets change the value at [0] and swap ferrari for lexus\n",
    "\n",
    "cars[0] = 'lexus'\n",
    "print(cars)"
   ]
  },
  {
   "cell_type": "markdown",
   "metadata": {},
   "source": [
    "As you can see from the second list, the element 'ferrari' has been updated to 'lexus' - we can do this for any item in the list."
   ]
  },
  {
   "cell_type": "markdown",
   "metadata": {},
   "source": [
    "----"
   ]
  },
  {
   "cell_type": "markdown",
   "metadata": {},
   "source": [
    "#### .append method"
   ]
  },
  {
   "cell_type": "markdown",
   "metadata": {},
   "source": [
    "As well as altering our lists, we might want to add additional elements. To do this, we must use a specific method: .append() - this will add the new element to the end of the list. For example:"
   ]
  },
  {
   "cell_type": "code",
   "execution_count": 135,
   "metadata": {},
   "outputs": [
    {
     "name": "stdout",
     "output_type": "stream",
     "text": [
      "['ferrari', 'jaguar', 'mercedes', 'aston martin']\n",
      "['ferrari', 'jaguar', 'mercedes', 'aston martin', 'honda']\n"
     ]
    }
   ],
   "source": [
    "cars = ['ferrari', 'jaguar', 'mercedes', 'aston martin']\n",
    "print(cars)\n",
    "\n",
    "cars.append('honda')\n",
    "print(cars)"
   ]
  },
  {
   "cell_type": "markdown",
   "metadata": {},
   "source": [
    "As you can see, the new element 'honda' gets added to the end of the list without affecting the rest of it."
   ]
  },
  {
   "cell_type": "markdown",
   "metadata": {},
   "source": [
    "The .append method is also a useful tool for dynamically building lists and even starting with an empty one and adding elements to it as the user interacts with the program."
   ]
  },
  {
   "cell_type": "code",
   "execution_count": 136,
   "metadata": {},
   "outputs": [
    {
     "name": "stdout",
     "output_type": "stream",
     "text": [
      "['ferrari']\n",
      "['ferrari', 'jaguar']\n"
     ]
    }
   ],
   "source": [
    "# Starting with an empty list and adding the first element\n",
    "\n",
    "cars = []\n",
    "\n",
    "cars.append('ferrari')\n",
    "\n",
    "print(cars)\n",
    "\n",
    "\n",
    "# Adding another element to the list\n",
    "\n",
    "cars.append('jaguar')\n",
    "\n",
    "print(cars)"
   ]
  },
  {
   "cell_type": "markdown",
   "metadata": {},
   "source": [
    "----"
   ]
  },
  {
   "cell_type": "markdown",
   "metadata": {},
   "source": [
    "#### .insert() method"
   ]
  },
  {
   "cell_type": "markdown",
   "metadata": {},
   "source": [
    "Whilst we've looked at how to add elements to the end of a list each time, we might want to add an element to a specific index in the list and for this we need to use a diffent method. To do this, we will use the .insert() method. "
   ]
  },
  {
   "cell_type": "code",
   "execution_count": 137,
   "metadata": {},
   "outputs": [
    {
     "name": "stdout",
     "output_type": "stream",
     "text": [
      "['ferrari', 'toyota', 'jaguar', 'mercedes', 'aston martin']\n"
     ]
    }
   ],
   "source": [
    "cars = ['ferrari', 'jaguar', 'mercedes', 'aston martin']\n",
    "\n",
    "# Remember the list starts at 0 - in this case we want to insert a new element in the second position \n",
    "\n",
    "# To do this we use the .insert method and then follow this with parentheses containing the index position and value\n",
    "\n",
    "cars.insert(1, 'toyota')\n",
    "\n",
    "print(cars)"
   ]
  },
  {
   "cell_type": "markdown",
   "metadata": {},
   "source": [
    "As you can see, we wanted our new element to appear second in the list but had to identify this by using the index 1. This will shift every other value, starting from the index at which the new element is being inserted, to the right."
   ]
  },
  {
   "cell_type": "markdown",
   "metadata": {},
   "source": [
    "----"
   ]
  },
  {
   "cell_type": "markdown",
   "metadata": {},
   "source": [
    "#### Removing items from a List"
   ]
  },
  {
   "cell_type": "markdown",
   "metadata": {},
   "source": [
    "#### del statements"
   ]
  },
  {
   "cell_type": "markdown",
   "metadata": {},
   "source": [
    "There may be times where we don't want to add or replace an element, but completely remove one from the list. To do this, we can use the del statement. Note this is not a method, but a function so has a different format to the methods we have been using. For example:"
   ]
  },
  {
   "cell_type": "code",
   "execution_count": 138,
   "metadata": {},
   "outputs": [
    {
     "name": "stdout",
     "output_type": "stream",
     "text": [
      "['ferrari', 'jaguar', 'mercedes', 'aston martin']\n",
      "['ferrari', 'mercedes', 'aston martin']\n"
     ]
    }
   ],
   "source": [
    "# For this we'll start with the last list we used\n",
    "\n",
    "cars = ['ferrari', 'jaguar', 'mercedes', 'aston martin']\n",
    "print(cars)\n",
    "\n",
    "# This time, we want to remove 'jaguar' from the list. As we know the position of this value, we use the following:\n",
    "\n",
    "del cars[1]\n",
    "print(cars)"
   ]
  },
  {
   "cell_type": "markdown",
   "metadata": {},
   "source": [
    "Once the del statement is used, we can no longer access that particular value. "
   ]
  },
  {
   "cell_type": "markdown",
   "metadata": {},
   "source": [
    "----"
   ]
  },
  {
   "cell_type": "markdown",
   "metadata": {},
   "source": [
    "#### .pop() method"
   ]
  },
  {
   "cell_type": "markdown",
   "metadata": {},
   "source": [
    "But what happens if we want to remove an element from a list but still access its value? We can do this by using the .pop() method instead."
   ]
  },
  {
   "cell_type": "markdown",
   "metadata": {},
   "source": [
    "This is useful in dynamic programs where we might have one element being displayed, only for it to be removed. We might still want to know this value so we can use it elsewhere. To do this, we use the .pop() method which will remove any element which is indicated by its index - this is almost the inverse of the, .insert() method. For example:"
   ]
  },
  {
   "cell_type": "code",
   "execution_count": 139,
   "metadata": {},
   "outputs": [
    {
     "name": "stdout",
     "output_type": "stream",
     "text": [
      "['ferrari', 'jaguar', 'mercedes', 'aston martin']\n",
      "['ferrari', 'jaguar', 'aston martin']\n",
      "mercedes\n"
     ]
    }
   ],
   "source": [
    "cars = ['ferrari', 'jaguar', 'mercedes', 'aston martin']\n",
    "print(cars)\n",
    "\n",
    "# Lets use a variable name which best describes this element we are popping - in this case, mercedes\n",
    "\n",
    "popped_cars = cars.pop(2)\n",
    "\n",
    "print(cars)\n",
    "print(popped_cars)"
   ]
  },
  {
   "cell_type": "markdown",
   "metadata": {},
   "source": [
    "From this example, you can see how the first list is reduced to no longer include 'mercedes' as this value is now stored under 'popped_cars'."
   ]
  },
  {
   "cell_type": "markdown",
   "metadata": {},
   "source": [
    "Again, we can combine this with f-strings. To highlight this, lets use a hypothetical scenario. Imagine we were running a second-hand car dealership and wanted to track our inventory/sales using a Python program. Part of the program might identify the last brand of car sold:"
   ]
  },
  {
   "cell_type": "code",
   "execution_count": 140,
   "metadata": {},
   "outputs": [
    {
     "name": "stdout",
     "output_type": "stream",
     "text": [
      "The last type of car sold was a Mercedes.\n"
     ]
    }
   ],
   "source": [
    "cars = ['ferrari', 'jaguar', 'mercedes', 'aston martin']\n",
    "\n",
    "# The last type of car which was sold was a mercedes\n",
    "\n",
    "cars_sold = cars.pop(2)\n",
    "\n",
    "print(f'The last type of car sold was a {cars_sold.title()}.')\n"
   ]
  },
  {
   "cell_type": "markdown",
   "metadata": {},
   "source": [
    "To decide between using a del statement and the .pop() method you must consider if you want to use the removed element or not.\n",
    "\n",
    "* Use the del statement if you no longer need that information.\n",
    "\n",
    "* Use the .pop() method if you want to access that information at a later point."
   ]
  },
  {
   "cell_type": "markdown",
   "metadata": {},
   "source": [
    "----"
   ]
  },
  {
   "cell_type": "markdown",
   "metadata": {},
   "source": [
    "#### .remove() method"
   ]
  },
  {
   "cell_type": "markdown",
   "metadata": {},
   "source": [
    "Whilst the last method offers a way to remove an element from a list when you know its location...but what happens when you don't know where it is indexed?"
   ]
  },
  {
   "cell_type": "markdown",
   "metadata": {},
   "source": [
    "If we know what element we want to remove, we can use the .remove() method to remove that value. \n",
    "\n",
    "For example, using the list of cars, lets remove 'jaguar' again but using the .remove() method this time."
   ]
  },
  {
   "cell_type": "code",
   "execution_count": 141,
   "metadata": {},
   "outputs": [
    {
     "name": "stdout",
     "output_type": "stream",
     "text": [
      "['ferrari', 'mercedes', 'aston martin']\n"
     ]
    }
   ],
   "source": [
    "cars = ['ferrari', 'jaguar', 'mercedes', 'aston martin']\n",
    "\n",
    "cars.remove('jaguar')\n",
    "\n",
    "print(cars)"
   ]
  },
  {
   "cell_type": "markdown",
   "metadata": {},
   "source": [
    "As you can see, this method will extract that value wherever it may be indexed in the list. You must however make sure you use the exact spelling of the element otherwise it *will not work*:"
   ]
  },
  {
   "cell_type": "code",
   "execution_count": 142,
   "metadata": {},
   "outputs": [
    {
     "ename": "ValueError",
     "evalue": "list.remove(x): x not in list",
     "output_type": "error",
     "traceback": [
      "\u001b[0;31m---------------------------------------------------------------------------\u001b[0m",
      "\u001b[0;31mValueError\u001b[0m                                Traceback (most recent call last)",
      "\u001b[0;32m<ipython-input-142-51772d763c79>\u001b[0m in \u001b[0;36m<module>\u001b[0;34m\u001b[0m\n\u001b[1;32m      3\u001b[0m \u001b[0;31m# Lets use a typo to highlight this point\u001b[0m\u001b[0;34m\u001b[0m\u001b[0;34m\u001b[0m\u001b[0;34m\u001b[0m\u001b[0m\n\u001b[1;32m      4\u001b[0m \u001b[0;34m\u001b[0m\u001b[0m\n\u001b[0;32m----> 5\u001b[0;31m \u001b[0mcars\u001b[0m\u001b[0;34m.\u001b[0m\u001b[0mremove\u001b[0m\u001b[0;34m(\u001b[0m\u001b[0;34m'jagur'\u001b[0m\u001b[0;34m)\u001b[0m\u001b[0;34m\u001b[0m\u001b[0;34m\u001b[0m\u001b[0m\n\u001b[0m\u001b[1;32m      6\u001b[0m \u001b[0;34m\u001b[0m\u001b[0m\n\u001b[1;32m      7\u001b[0m \u001b[0mprint\u001b[0m\u001b[0;34m(\u001b[0m\u001b[0mcars\u001b[0m\u001b[0;34m)\u001b[0m\u001b[0;34m\u001b[0m\u001b[0;34m\u001b[0m\u001b[0m\n",
      "\u001b[0;31mValueError\u001b[0m: list.remove(x): x not in list"
     ]
    }
   ],
   "source": [
    "cars = ['ferrari', 'jaguar', 'mercedes', 'aston martin']\n",
    "\n",
    "# Lets use a typo to highlight this point\n",
    "\n",
    "cars.remove('jagur')\n",
    "\n",
    "print(cars)"
   ]
  },
  {
   "cell_type": "markdown",
   "metadata": {},
   "source": [
    "We can also give reasons why such an element was removed by adding some extra code:"
   ]
  },
  {
   "cell_type": "code",
   "execution_count": 143,
   "metadata": {},
   "outputs": [
    {
     "name": "stdout",
     "output_type": "stream",
     "text": [
      "['ferrari', 'jaguar', 'mercedes', 'aston martin']\n",
      "['ferrari', 'mercedes', 'aston martin']\n",
      "\n",
      "Jaguar cars are all sold out.\n"
     ]
    }
   ],
   "source": [
    "cars = ['ferrari', 'jaguar', 'mercedes', 'aston martin']\n",
    "print(cars)\n",
    "\n",
    "# In this case we are going back to the hypothetical car dealership program which tracks an inventory of cars\n",
    "# We will remove an element from this list and use the justification that we have sold out of this car brand\n",
    "\n",
    "sold_out = 'jaguar'\n",
    "cars.remove(sold_out)\n",
    "print(cars)\n",
    "print(f'\\n{sold_out.title()} cars are all sold out.')"
   ]
  },
  {
   "cell_type": "markdown",
   "metadata": {},
   "source": [
    "Whilst 'jaguar' was removed from the list, it is still accessible through the sold_out variable meaning we can primt a statement explaining why it was removed."
   ]
  },
  {
   "cell_type": "markdown",
   "metadata": {},
   "source": [
    "----"
   ]
  },
  {
   "cell_type": "markdown",
   "metadata": {},
   "source": [
    "### Structuring Lists"
   ]
  },
  {
   "cell_type": "markdown",
   "metadata": {},
   "source": [
    "Now we have looked at how we can generate lists, we will want to examine how we can manipulate them in order to organise them or present them in a particular way. "
   ]
  },
  {
   "cell_type": "markdown",
   "metadata": {},
   "source": [
    "#### 1. *Permanently* sorting a List - the .sort() method"
   ]
  },
  {
   "cell_type": "markdown",
   "metadata": {},
   "source": [
    "The first method we will look at is the .sort() method as this allows us to store our list alphabetically. "
   ]
  },
  {
   "cell_type": "code",
   "execution_count": 144,
   "metadata": {},
   "outputs": [
    {
     "name": "stdout",
     "output_type": "stream",
     "text": [
      "['aston martin', 'ferrari', 'jaguar', 'mercedes']\n"
     ]
    }
   ],
   "source": [
    "# We'll use the same list again for this\n",
    "\n",
    "cars = ['ferrari', 'jaguar', 'mercedes', 'aston martin']\n",
    "\n",
    "cars.sort()\n",
    "print(cars)"
   ]
  },
  {
   "cell_type": "markdown",
   "metadata": {},
   "source": [
    "As you can see, the method does as expected and rearranges our list of cars alphabetically. It must be noted here that now we have done this, *we cannot restore the list to its original format*."
   ]
  },
  {
   "cell_type": "markdown",
   "metadata": {},
   "source": [
    "We can also sort the list in reverse alphabetical order as well. To do this, we use the following code:\n"
   ]
  },
  {
   "cell_type": "code",
   "execution_count": 145,
   "metadata": {},
   "outputs": [
    {
     "name": "stdout",
     "output_type": "stream",
     "text": [
      "['mercedes', 'jaguar', 'ferrari', 'aston martin']\n"
     ]
    }
   ],
   "source": [
    "cars = ['ferrari', 'jaguar', 'mercedes', 'aston martin']\n",
    "\n",
    "cars.sort(reverse=True)\n",
    "print(cars)"
   ]
  },
  {
   "cell_type": "markdown",
   "metadata": {},
   "source": [
    "This is another permanent change to the list which *cannot be undone*."
   ]
  },
  {
   "cell_type": "markdown",
   "metadata": {},
   "source": [
    "#### 2. *Temporarily* sorting a List - the sorted() Function"
   ]
  },
  {
   "cell_type": "markdown",
   "metadata": {},
   "source": [
    "We might want to store our data in its original format in the list, but display it in a different format. This means we will temporarily sort the list for printing purposes but this will not change the how the list is stored. We can do this with the sorted() Function."
   ]
  },
  {
   "cell_type": "code",
   "execution_count": 146,
   "metadata": {},
   "outputs": [
    {
     "name": "stdout",
     "output_type": "stream",
     "text": [
      "['ferrari', 'jaguar', 'mercedes', 'aston martin']\n",
      "\n",
      "This is the sorted list:\n",
      "['aston martin', 'ferrari', 'jaguar', 'mercedes']\n",
      "\n",
      "\n",
      "To show the original list is still stored in the same format:\n",
      "['ferrari', 'jaguar', 'mercedes', 'aston martin']\n"
     ]
    }
   ],
   "source": [
    "cars = ['ferrari', 'jaguar', 'mercedes', 'aston martin']\n",
    "print(cars)\n",
    "\n",
    "print('\\nThis is the sorted list:')\n",
    "print(sorted(cars))\n",
    "\n",
    "print('\\n\\nTo show the original list is still stored in the same format:')\n",
    "print(cars)"
   ]
  },
  {
   "cell_type": "markdown",
   "metadata": {},
   "source": [
    " "
   ]
  },
  {
   "cell_type": "markdown",
   "metadata": {},
   "source": [
    "#### 3. Printing a List in Reverse Order - the .reverse() method"
   ]
  },
  {
   "cell_type": "markdown",
   "metadata": {},
   "source": [
    "This method will reverse the order of however the list is currently stored. "
   ]
  },
  {
   "cell_type": "code",
   "execution_count": 147,
   "metadata": {},
   "outputs": [
    {
     "name": "stdout",
     "output_type": "stream",
     "text": [
      "['ferrari', 'jaguar', 'mercedes', 'aston martin']\n",
      "['aston martin', 'mercedes', 'jaguar', 'ferrari']\n"
     ]
    }
   ],
   "source": [
    "cars = ['ferrari', 'jaguar', 'mercedes', 'aston martin']\n",
    "print(cars)\n",
    "\n",
    "cars.reverse()\n",
    "print(cars)"
   ]
  },
  {
   "cell_type": "markdown",
   "metadata": {},
   "source": [
    "This again will be a permanent change, but you could just apply the reverse function again to restore the list to its original format."
   ]
  },
  {
   "cell_type": "markdown",
   "metadata": {},
   "source": [
    " "
   ]
  },
  {
   "cell_type": "markdown",
   "metadata": {},
   "source": [
    "----"
   ]
  },
  {
   "cell_type": "markdown",
   "metadata": {},
   "source": [
    "This largely covers the essentials for lists. The last useful tool to use with them is identifying how long a string is. To do this, you can use the len() function. This will count the number of values indexed and return an integer:"
   ]
  },
  {
   "cell_type": "code",
   "execution_count": 148,
   "metadata": {},
   "outputs": [
    {
     "data": {
      "text/plain": [
       "4"
      ]
     },
     "execution_count": 148,
     "metadata": {},
     "output_type": "execute_result"
    }
   ],
   "source": [
    "cars = ['ferrari', 'jaguar', 'mercedes', 'aston martin']\n",
    "len(cars)"
   ]
  },
  {
   "cell_type": "markdown",
   "metadata": {},
   "source": [
    "You'll notice, this will actually count the number of elements indexed and won't start this count from 0 as it is counting actual objects, not their index."
   ]
  },
  {
   "cell_type": "markdown",
   "metadata": {},
   "source": [
    "----"
   ]
  },
  {
   "cell_type": "markdown",
   "metadata": {},
   "source": [
    "### Slicing a List "
   ]
  },
  {
   "cell_type": "markdown",
   "metadata": {},
   "source": [
    "Whilst we know how to access individual elements in a list, we might want to access groups of elements."
   ]
  },
  {
   "cell_type": "markdown",
   "metadata": {},
   "source": [
    "We can do this by slicing a list - this is where we specific the index of the first and last elements which we want to use."
   ]
  },
  {
   "cell_type": "code",
   "execution_count": 149,
   "metadata": {},
   "outputs": [
    {
     "name": "stdout",
     "output_type": "stream",
     "text": [
      "['ferrari', 'jaguar', 'mercedes']\n"
     ]
    }
   ],
   "source": [
    "cars = ['ferrari', 'jaguar', 'mercedes', 'aston martin']\n",
    "\n",
    "# To slice the list, we need to identify where this is stored and then indicate which elements we're interested in.\n",
    "# We will then print these.\n",
    "\n",
    "print(cars[0:3])"
   ]
  },
  {
   "cell_type": "markdown",
   "metadata": {},
   "source": [
    "You'll notice that in doing this, it follows the same rules as with the range() function: the index starts with the first element being labelled as position 0."
   ]
  },
  {
   "cell_type": "code",
   "execution_count": 150,
   "metadata": {},
   "outputs": [
    {
     "data": {
      "text/plain": [
       "['ferrari', 'jaguar', 'mercedes', 'aston martin']"
      ]
     },
     "execution_count": 150,
     "metadata": {},
     "output_type": "execute_result"
    }
   ],
   "source": [
    "cars = ['ferrari', 'jaguar', 'mercedes', 'aston martin']\n",
    "\n",
    "#          0           1          2             3\n",
    "\n",
    "# Accessing the value at position 3 would require you to write this as:\n",
    "\n",
    "cars[0:4]"
   ]
  },
  {
   "cell_type": "markdown",
   "metadata": {},
   "source": [
    "If you do want this whole list printing, an easy way of achieving this is using the following method. This avoids the issue of forgetting about the indexes and their positions:"
   ]
  },
  {
   "cell_type": "code",
   "execution_count": 151,
   "metadata": {},
   "outputs": [
    {
     "name": "stdout",
     "output_type": "stream",
     "text": [
      "['ferrari', 'jaguar', 'mercedes', 'aston martin']\n"
     ]
    }
   ],
   "source": [
    "cars = ['ferrari', 'jaguar', 'mercedes', 'aston martin']\n",
    "\n",
    "print(cars[:4])"
   ]
  },
  {
   "cell_type": "markdown",
   "metadata": {},
   "source": [
    "By omitting the first value in the brackets, Python will take this as you indicating you wish to start with the first stored value. "
   ]
  },
  {
   "cell_type": "markdown",
   "metadata": {},
   "source": [
    "We can use a similar approach if we want a slice from elsewhere in the list that includes the end:"
   ]
  },
  {
   "cell_type": "code",
   "execution_count": 152,
   "metadata": {},
   "outputs": [
    {
     "name": "stdout",
     "output_type": "stream",
     "text": [
      "['mercedes', 'aston martin']\n"
     ]
    }
   ],
   "source": [
    "cars = ['ferrari', 'jaguar', 'mercedes', 'aston martin']\n",
    "\n",
    "print(cars[2:])"
   ]
  },
  {
   "cell_type": "markdown",
   "metadata": {},
   "source": [
    "In this case, it will do the inverse of what we previously looked at: in this case beginning at index 2 (so starting from the 3rd stored value)."
   ]
  },
  {
   "cell_type": "markdown",
   "metadata": {},
   "source": [
    "We can also apply the negative index rule which we looked at earlier, which means we can access a number of elements which are a specific distance from the end of the list:"
   ]
  },
  {
   "cell_type": "code",
   "execution_count": 153,
   "metadata": {},
   "outputs": [
    {
     "name": "stdout",
     "output_type": "stream",
     "text": [
      "['mercedes', 'aston martin']\n"
     ]
    }
   ],
   "source": [
    "cars = ['ferrari', 'jaguar', 'mercedes', 'aston martin']\n",
    "\n",
    "print(cars[-2:])"
   ]
  },
  {
   "cell_type": "markdown",
   "metadata": {},
   "source": [
    "In this case we wanted the last two values stored in the list."
   ]
  },
  {
   "cell_type": "markdown",
   "metadata": {},
   "source": [
    "----"
   ]
  },
  {
   "cell_type": "markdown",
   "metadata": {},
   "source": [
    "### Slices and Loops"
   ]
  },
  {
   "cell_type": "markdown",
   "metadata": {},
   "source": [
    "Just like lists, we can also use a slice in a loop:"
   ]
  },
  {
   "cell_type": "code",
   "execution_count": 154,
   "metadata": {},
   "outputs": [
    {
     "name": "stdout",
     "output_type": "stream",
     "text": [
      "Here are the car brands which we currently have available:\n",
      "\n",
      "Ferrari\n",
      "Jaguar\n"
     ]
    }
   ],
   "source": [
    "cars = ['ferrari', 'jaguar', 'mercedes', 'aston martin']\n",
    "\n",
    "print(\"Here are the car brands which we currently have available:\\n\")\n",
    "for car in cars[:2]:\n",
    "        print(car.title())"
   ]
  },
  {
   "cell_type": "markdown",
   "metadata": {},
   "source": [
    "Instead of looping through the whole list, Python only loops through the first two names."
   ]
  },
  {
   "cell_type": "markdown",
   "metadata": {},
   "source": [
    "### Copying Lists"
   ]
  },
  {
   "cell_type": "markdown",
   "metadata": {},
   "source": [
    "We can also copy entire lists. To do this we use [:] as seen in the example below:"
   ]
  },
  {
   "cell_type": "code",
   "execution_count": 155,
   "metadata": {},
   "outputs": [
    {
     "name": "stdout",
     "output_type": "stream",
     "text": [
      "The cars we have in store are:\n",
      "\n",
      "['ferrari', 'jaguar', 'mercedes', 'aston martin']\n",
      "\n",
      " \n",
      "The cars we have available online are:\n",
      "\n",
      "['ferrari', 'jaguar', 'mercedes', 'aston martin']\n"
     ]
    }
   ],
   "source": [
    "car_shop_inventory = ['ferrari', 'jaguar', 'mercedes', 'aston martin']\n",
    "online_car_inventory = car_shop_inventory[:]\n",
    "\n",
    "print('The cars we have in store are:\\n')\n",
    "print(car_shop_inventory)\n",
    "\n",
    "print('\\n \\nThe cars we have available online are:\\n')\n",
    "print(online_car_inventory)\n",
    "\n"
   ]
  },
  {
   "cell_type": "markdown",
   "metadata": {},
   "source": [
    "As you can see, both lists contain the same elements. We can prove they are different by using the .append method to add elements to one list and showing the other list doesn't change."
   ]
  },
  {
   "cell_type": "code",
   "execution_count": 156,
   "metadata": {},
   "outputs": [
    {
     "name": "stdout",
     "output_type": "stream",
     "text": [
      "['ferrari', 'jaguar', 'mercedes', 'aston martin', 'Honda']\n",
      "['ferrari', 'jaguar', 'mercedes', 'aston martin']\n"
     ]
    }
   ],
   "source": [
    "car_shop_inventory = ['ferrari', 'jaguar', 'mercedes', 'aston martin']\n",
    "online_car_inventory = car_shop_inventory[:]\n",
    "\n",
    "car_shop_inventory.append('Honda')\n",
    "\n",
    "print(car_shop_inventory)\n",
    "print(online_car_inventory)"
   ]
  },
  {
   "cell_type": "markdown",
   "metadata": {},
   "source": [
    "If we had simply used the following statement:"
   ]
  },
  {
   "cell_type": "code",
   "execution_count": 157,
   "metadata": {},
   "outputs": [],
   "source": [
    "car_shop_inventory = online_car_inventory "
   ]
  },
  {
   "cell_type": "markdown",
   "metadata": {},
   "source": [
    "Then if we to update one, it would also update the other:"
   ]
  },
  {
   "cell_type": "code",
   "execution_count": 158,
   "metadata": {},
   "outputs": [
    {
     "name": "stdout",
     "output_type": "stream",
     "text": [
      "['ferrari', 'jaguar', 'mercedes', 'aston martin', 'Honda']\n",
      "['ferrari', 'jaguar', 'mercedes', 'aston martin', 'Honda']\n"
     ]
    }
   ],
   "source": [
    "car_shop_inventory = ['ferrari', 'jaguar', 'mercedes', 'aston martin']\n",
    "online_car_inventory = car_shop_inventory\n",
    "\n",
    "online_car_inventory.append('Honda')\n",
    "\n",
    "print(online_car_inventory)\n",
    "print(car_shop_inventory)"
   ]
  },
  {
   "cell_type": "markdown",
   "metadata": {},
   "source": [
    "This is not helpful when we only want to update one list. "
   ]
  },
  {
   "cell_type": "markdown",
   "metadata": {},
   "source": [
    "----"
   ]
  },
  {
   "cell_type": "markdown",
   "metadata": {},
   "source": [
    "**_Please see Loops and Lists Notebook before continuing_**"
   ]
  },
  {
   "cell_type": "markdown",
   "metadata": {},
   "source": [
    "----"
   ]
  },
  {
   "cell_type": "markdown",
   "metadata": {},
   "source": [
    "### Numerical Lists"
   ]
  },
  {
   "cell_type": "markdown",
   "metadata": {},
   "source": [
    "Whilst the lists we've looked at so far involve strings, we can also use lists to store numbers as well. In the games we develop, this will be useful for tracking coordinates and positions of different objects, as well as scores. This is also a really useful tool for data science."
   ]
  },
  {
   "cell_type": "markdown",
   "metadata": {},
   "source": [
    "#### Generating a range of numbers - the range() function"
   ]
  },
  {
   "cell_type": "markdown",
   "metadata": {},
   "source": [
    "As we cover in the Loops and Lists Notebook, there is a certain structure in Python which automates certain processes and these are referred to as loops. When using the range() function, we utilise a loop in order to generate a series of numbers. For example:"
   ]
  },
  {
   "cell_type": "code",
   "execution_count": 159,
   "metadata": {},
   "outputs": [
    {
     "name": "stdout",
     "output_type": "stream",
     "text": [
      "1\n",
      "2\n",
      "3\n",
      "4\n"
     ]
    }
   ],
   "source": [
    "# Start the loop by indicating that we want to assign numbers to the variable 'value'\n",
    "# The range is indicated in the parentheses (number at start of range, number at end of range)\n",
    "\n",
    "for value in range(1, 5):\n",
    "    print(value)"
   ]
  },
  {
   "cell_type": "markdown",
   "metadata": {},
   "source": [
    "You'll notice here, that whilst the range is stated as 1 to 5, the range which is printed is only 1 to 4. This is due to Python's off-by-one behaviour which means it will always stop at the last number given but not include it. As it stops here, that last value is never included in the output. If we wanted the number 5 to be printed, we would need to use the following code:"
   ]
  },
  {
   "cell_type": "code",
   "execution_count": 160,
   "metadata": {},
   "outputs": [
    {
     "name": "stdout",
     "output_type": "stream",
     "text": [
      "1\n",
      "2\n",
      "3\n",
      "4\n",
      "5\n"
     ]
    }
   ],
   "source": [
    "for value in range(1, 6):\n",
    "    print(value)"
   ]
  },
  {
   "cell_type": "markdown",
   "metadata": {},
   "source": [
    "You will also notice that this doesn't create a list, it just generates a series of numbers as output. This is not useful when we want to store a list of numbers which can be accessed throughout a program. "
   ]
  },
  {
   "cell_type": "markdown",
   "metadata": {},
   "source": [
    "#### Converting a range to a list - the list() function"
   ]
  },
  {
   "cell_type": "markdown",
   "metadata": {},
   "source": [
    "To create a list of numbers, this can easily be done by applying the list() function to the range of numbers."
   ]
  },
  {
   "cell_type": "code",
   "execution_count": 161,
   "metadata": {},
   "outputs": [
    {
     "name": "stdout",
     "output_type": "stream",
     "text": [
      "[1, 2, 3, 4, 5]\n"
     ]
    }
   ],
   "source": [
    "numbers = list(range(1, 6))\n",
    "print(numbers)"
   ]
  },
  {
   "cell_type": "markdown",
   "metadata": {},
   "source": [
    "We can also be more specific with how we want to generate our numbers. For example, we might want a list which only diplays even numbers: "
   ]
  },
  {
   "cell_type": "code",
   "execution_count": 162,
   "metadata": {},
   "outputs": [
    {
     "name": "stdout",
     "output_type": "stream",
     "text": [
      "[2, 4, 6, 8, 10]\n"
     ]
    }
   ],
   "source": [
    "even_numbers = list(range(2, 11, 2))\n",
    "print(even_numbers)"
   ]
  },
  {
   "cell_type": "markdown",
   "metadata": {},
   "source": [
    "What this code does is to tell Python: we want to start with the range counting from 2, with the end value being 11 (of course, this means 10 would be the last printed number), and then the second 2 indicates we want the range to add 2 until we reach this value. This way we only have the even numbers between 2 and 11 being stored in the list. "
   ]
  },
  {
   "cell_type": "markdown",
   "metadata": {},
   "source": [
    "We can also make this slightly more complex, such as by making a list of square numbers. Lets make a list of the first 10 square numbers:"
   ]
  },
  {
   "cell_type": "code",
   "execution_count": 163,
   "metadata": {},
   "outputs": [
    {
     "name": "stdout",
     "output_type": "stream",
     "text": [
      "[1, 4, 9, 16, 25, 36, 49, 64, 81, 100]\n"
     ]
    }
   ],
   "source": [
    "squares = []\n",
    "for value in range(1, 11):\n",
    "        square = value ** 2 \n",
    "        squares.append(square)\n",
    "        \n",
    "print(squares)"
   ]
  },
  {
   "cell_type": "markdown",
   "metadata": {},
   "source": [
    "Remember, when doing this ** reprensents exponents and we use the .append() method to new elements to a list. In this case we start with an empty list that gets added to as the loop runs through each value, squaring it, and adding it to the list."
   ]
  },
  {
   "cell_type": "code",
   "execution_count": 164,
   "metadata": {},
   "outputs": [
    {
     "name": "stdout",
     "output_type": "stream",
     "text": [
      "[1, 4, 9, 16, 25, 36, 49, 64, 81, 100]\n"
     ]
    }
   ],
   "source": [
    "# We can also make this code look much cleaner: \n",
    "    \n",
    "squares = []\n",
    "for value in range(1, 11):\n",
    "    squares.append(value**2)\n",
    "print(squares)"
   ]
  },
  {
   "cell_type": "markdown",
   "metadata": {},
   "source": [
    " #### List Comprehensions"
   ]
  },
  {
   "cell_type": "markdown",
   "metadata": {},
   "source": [
    "The code we have above is good, but we can do similar sums and create similar lists with just **one line of code.**"
   ]
  },
  {
   "cell_type": "markdown",
   "metadata": {},
   "source": [
    "A list comprehension means that we can combine a loop and creating new elements for a list using one line of code, with each new element being appended automatically. These are slighly more complex but are more commonly encountered in professional code. "
   ]
  },
  {
   "cell_type": "code",
   "execution_count": 165,
   "metadata": {},
   "outputs": [
    {
     "name": "stdout",
     "output_type": "stream",
     "text": [
      "[25, 36, 49, 64, 81, 100]\n"
     ]
    }
   ],
   "source": [
    "squares = [value**2 for value in range(5, 11)]\n",
    "print(squares)"
   ]
  },
  {
   "cell_type": "markdown",
   "metadata": {},
   "source": [
    "Everything that takes place in the brackets are all still features from the other examples we looked at above, just a more condensed version of it.\n",
    "\n",
    "It is good practice to find ways, such as the method above, to make your code as succinct as possible, so long as it is still readible to others. You can still use comments to explain where necessary."
   ]
  },
  {
   "cell_type": "markdown",
   "metadata": {},
   "source": [
    "----"
   ]
  },
  {
   "cell_type": "markdown",
   "metadata": {},
   "source": [
    "#### So what can we actually do with a list of numbers?"
   ]
  },
  {
   "cell_type": "markdown",
   "metadata": {},
   "source": [
    "#### Statistics! (Well, basic ones)"
   ]
  },
  {
   "cell_type": "markdown",
   "metadata": {},
   "source": [
    "So maybe these aren't propers statistics but here are a few basic things you can do with a list of numbers: "
   ]
  },
  {
   "cell_type": "code",
   "execution_count": 166,
   "metadata": {},
   "outputs": [
    {
     "data": {
      "text/plain": [
       "1"
      ]
     },
     "execution_count": 166,
     "metadata": {},
     "output_type": "execute_result"
    }
   ],
   "source": [
    "numbers = [1, 2, 3, 4, 5]\n",
    "\n",
    "min(numbers) "
   ]
  },
  {
   "cell_type": "code",
   "execution_count": 167,
   "metadata": {},
   "outputs": [
    {
     "data": {
      "text/plain": [
       "5"
      ]
     },
     "execution_count": 167,
     "metadata": {},
     "output_type": "execute_result"
    }
   ],
   "source": [
    "numbers = [1, 2, 3, 4, 5]\n",
    "\n",
    "max(numbers)"
   ]
  },
  {
   "cell_type": "code",
   "execution_count": 168,
   "metadata": {},
   "outputs": [
    {
     "data": {
      "text/plain": [
       "15"
      ]
     },
     "execution_count": 168,
     "metadata": {},
     "output_type": "execute_result"
    }
   ],
   "source": [
    "numbers = [1, 2, 3, 4, 5]\n",
    "\n",
    "sum(numbers)"
   ]
  },
  {
   "cell_type": "markdown",
   "metadata": {},
   "source": [
    "Here are three different functions which we can use on these numbers:\n",
    "    \n",
    "* The min() function - this will find the lowest value in the list\n",
    "* The max() function - this will find the highest value in the list \n",
    "* The sum() function - this will sum all the numbers in the list "
   ]
  },
  {
   "cell_type": "markdown",
   "metadata": {},
   "source": [
    "----"
   ]
  },
  {
   "cell_type": "markdown",
   "metadata": {},
   "source": [
    "## What about lists which can't be changed? \n",
    "\n",
    "### Tuples"
   ]
  },
  {
   "cell_type": "markdown",
   "metadata": {},
   "source": [
    "So far we've looked at the reasons why it can be useful to edit and update lists as programs develop. But what about when we need a list of items that is fixed and cannot change (in other words, is immutable)?"
   ]
  },
  {
   "cell_type": "markdown",
   "metadata": {},
   "source": [
    "We can use a feature of Python called tuples - these are just like lists but use parentheses ( ) instead of brackets [ ] and this is how they can be identified. N.b. Tuples are technically identified by the comma used within the parentheses - just something to note. If you use a Tuple with just one value, there must always be a comma which follows it as a result."
   ]
  },
  {
   "cell_type": "markdown",
   "metadata": {},
   "source": [
    "For example, we might want to define a specific area for our game which we're going to develop, and it wouldn't be helpful if this was able to change. We want to play the game in a fixed area."
   ]
  },
  {
   "cell_type": "code",
   "execution_count": 169,
   "metadata": {},
   "outputs": [
    {
     "name": "stdout",
     "output_type": "stream",
     "text": [
      "600\n",
      "200\n"
     ]
    }
   ],
   "source": [
    "# To do this, we could define dimensions by using tuple, for example:\n",
    "    \n",
    "measurements = (600, 200)\n",
    "\n",
    "# Next we print each element of the tuple individually (just like how we did with our lists)\n",
    "print(measurements[0])\n",
    "print(measurements[1])"
   ]
  },
  {
   "cell_type": "markdown",
   "metadata": {},
   "source": [
    "What happens if we try to change one of these numbers? Lets try it:"
   ]
  },
  {
   "cell_type": "code",
   "execution_count": 170,
   "metadata": {},
   "outputs": [
    {
     "ename": "TypeError",
     "evalue": "'tuple' object does not support item assignment",
     "output_type": "error",
     "traceback": [
      "\u001b[0;31m---------------------------------------------------------------------------\u001b[0m",
      "\u001b[0;31mTypeError\u001b[0m                                 Traceback (most recent call last)",
      "\u001b[0;32m<ipython-input-170-12ee099da769>\u001b[0m in \u001b[0;36m<module>\u001b[0;34m\u001b[0m\n\u001b[1;32m      1\u001b[0m \u001b[0mmeasurements\u001b[0m \u001b[0;34m=\u001b[0m \u001b[0;34m(\u001b[0m\u001b[0;36m600\u001b[0m\u001b[0;34m,\u001b[0m\u001b[0;36m200\u001b[0m\u001b[0;34m)\u001b[0m\u001b[0;34m\u001b[0m\u001b[0;34m\u001b[0m\u001b[0m\n\u001b[1;32m      2\u001b[0m \u001b[0;34m\u001b[0m\u001b[0m\n\u001b[0;32m----> 3\u001b[0;31m \u001b[0mmeasurements\u001b[0m\u001b[0;34m[\u001b[0m\u001b[0;36m0\u001b[0m\u001b[0;34m]\u001b[0m \u001b[0;34m=\u001b[0m \u001b[0;36m650\u001b[0m\u001b[0;34m\u001b[0m\u001b[0;34m\u001b[0m\u001b[0m\n\u001b[0m",
      "\u001b[0;31mTypeError\u001b[0m: 'tuple' object does not support item assignment"
     ]
    }
   ],
   "source": [
    "measurements = (600,200)\n",
    "\n",
    "measurements[0] = 650"
   ]
  },
  {
   "cell_type": "markdown",
   "metadata": {},
   "source": [
    "When running this, we get a TypeError, indicating this action isn't possible with Tuples."
   ]
  },
  {
   "cell_type": "markdown",
   "metadata": {},
   "source": [
    "Whilst you cannot modify a Tuple, you can completely change it by assinging a new value to the variable that reprensents the Tuple. This basically redefines the whole Tuple (we're not trying to modify what's contained within it - we're resassinging the variable)."
   ]
  },
  {
   "cell_type": "code",
   "execution_count": 171,
   "metadata": {},
   "outputs": [
    {
     "name": "stdout",
     "output_type": "stream",
     "text": [
      "First set of measurements:\n",
      "600\n",
      "200\n",
      "\n",
      " New set of measurements:\n",
      "700\n",
      "300\n"
     ]
    }
   ],
   "source": [
    "measurements = (600,200)\n",
    "print(\"First set of measurements:\")\n",
    "for measurement in measurements:\n",
    "    print(measurement)\n",
    "    \n",
    "measurements = (700,300)\n",
    "print(\"\\n New set of measurements:\")\n",
    "for measurement in measurements:\n",
    "    print(measurement)"
   ]
  },
  {
   "cell_type": "markdown",
   "metadata": {},
   "source": [
    " "
   ]
  },
  {
   "cell_type": "markdown",
   "metadata": {},
   "source": [
    "Just like Lists, we can also loop through the values in a Tuple:"
   ]
  },
  {
   "cell_type": "code",
   "execution_count": 172,
   "metadata": {},
   "outputs": [
    {
     "name": "stdout",
     "output_type": "stream",
     "text": [
      "600\n",
      "200\n"
     ]
    }
   ],
   "source": [
    "measurements = (600,200)\n",
    "\n",
    "for measurement in measurements:\n",
    "    print(measurement)"
   ]
  },
  {
   "cell_type": "markdown",
   "metadata": {},
   "source": [
    "----"
   ]
  },
  {
   "cell_type": "markdown",
   "metadata": {},
   "source": [
    "**And that's it, we're done for this session! Please see resources below for more info on these topics!**"
   ]
  },
  {
   "cell_type": "markdown",
   "metadata": {},
   "source": [
    " "
   ]
  },
  {
   "cell_type": "markdown",
   "metadata": {},
   "source": [
    "----"
   ]
  },
  {
   "cell_type": "markdown",
   "metadata": {},
   "source": [
    "# Resources "
   ]
  },
  {
   "cell_type": "markdown",
   "metadata": {},
   "source": [
    "- https://www.w3schools.com/python/python_lists.asp \n",
    "- https://www.programiz.com/python-programming/list\n",
    "- https://developers.google.com/edu/python/lists\n",
    "- https://towardsdatascience.com/python-lists-from-scratch-4b958eb956fc\n",
    "- https://swcarpentry.github.io/python-novice-inflammation/05-lists/ "
   ]
  },
  {
   "cell_type": "code",
   "execution_count": null,
   "metadata": {},
   "outputs": [],
   "source": []
  }
 ],
 "metadata": {
  "kernelspec": {
   "display_name": "Python 3",
   "language": "python",
   "name": "python3"
  },
  "language_info": {
   "codemirror_mode": {
    "name": "ipython",
    "version": 3
   },
   "file_extension": ".py",
   "mimetype": "text/x-python",
   "name": "python",
   "nbconvert_exporter": "python",
   "pygments_lexer": "ipython3",
   "version": "3.7.6"
  }
 },
 "nbformat": 4,
 "nbformat_minor": 4
}
